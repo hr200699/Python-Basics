{
 "cells": [
  {
   "cell_type": "code",
   "execution_count": 1,
   "metadata": {
    "colab": {
     "base_uri": "https://localhost:8080/"
    },
    "id": "MVUqrTsM2L-J",
    "outputId": "cbfd575c-cec7-4fbf-9190-fdef057ccf8f"
   },
   "outputs": [
    {
     "name": "stdout",
     "output_type": "stream",
     "text": [
      "capitalize\n",
      "casefold\n",
      "center\n",
      "count\n",
      "encode\n",
      "endswith\n",
      "expandtabs\n",
      "find\n",
      "format\n",
      "format_map\n",
      "index\n",
      "isalnum\n",
      "isalpha\n",
      "isascii\n",
      "isdecimal\n",
      "isdigit\n",
      "isidentifier\n",
      "islower\n",
      "isnumeric\n",
      "isprintable\n",
      "isspace\n",
      "istitle\n",
      "isupper\n",
      "join\n",
      "ljust\n",
      "lower\n",
      "lstrip\n",
      "maketrans\n",
      "partition\n",
      "removeprefix\n",
      "removesuffix\n",
      "replace\n",
      "rfind\n",
      "rindex\n",
      "rjust\n",
      "rpartition\n",
      "rsplit\n",
      "rstrip\n",
      "split\n",
      "splitlines\n",
      "startswith\n",
      "strip\n",
      "swapcase\n",
      "title\n",
      "translate\n",
      "upper\n",
      "zfill\n",
      "Total words printed without underscore:47\n"
     ]
    }
   ],
   "source": [
    "#In a string directory check the funcations without having underscores in them\n",
    "student_name=dir(\"Abcd Efgh\") #string but used as directory\n",
    "underscore=\"_\" \n",
    "number_of_underscores=len(student_name) #max possibility of underscores is length of string\n",
    "i=0\n",
    "for letter in student_name:\n",
    "    if(letter[0]==underscore): #if any letter in string is underscore so count it\n",
    "        i=i+1\n",
    "        number_of_underscores=number_of_underscores-1 #decrement from total saved\n",
    "    else:\n",
    "        print(student_name[i]) #print the names of functions without having underscores\n",
    "        i=i+1\n",
    "print(\"Total words printed without underscore:\" + str(number_of_underscores))\n",
    "\n"
   ]
  },
  {
   "cell_type": "code",
   "execution_count": 2,
   "metadata": {},
   "outputs": [
    {
     "name": "stdout",
     "output_type": "stream",
     "text": [
      "__add__\n",
      "__class__\n",
      "__contains__\n",
      "__delattr__\n",
      "__dir__\n",
      "__doc__\n",
      "__eq__\n",
      "__format__\n",
      "__ge__\n",
      "__getattribute__\n",
      "__getitem__\n",
      "__getnewargs__\n",
      "__gt__\n",
      "__hash__\n",
      "__init__\n",
      "__init_subclass__\n",
      "__iter__\n",
      "__le__\n",
      "__len__\n",
      "__lt__\n",
      "__mod__\n",
      "__mul__\n",
      "__ne__\n",
      "__new__\n",
      "__reduce__\n",
      "__reduce_ex__\n",
      "__repr__\n",
      "__rmod__\n",
      "__rmul__\n",
      "__setattr__\n",
      "__sizeof__\n",
      "__str__\n",
      "__subclasshook__\n",
      "Total words printed without underscore:33\n"
     ]
    }
   ],
   "source": [
    "#In a string directory check the funcations having underscores in them\n",
    "student_name=dir(\"Abcd Efgh\") #string but used as directory\n",
    "underscore=\"_\" \n",
    "number_of_underscores=len(student_name) #max possibility of underscores is length of string\n",
    "i=0\n",
    "for letter in student_name:\n",
    "    if(letter[0]!=underscore): #if any letter in string is underscore so count it.....functions\n",
    "        i=i+1\n",
    "        number_of_underscores=number_of_underscores-1 #decrement from total saved\n",
    "    else:\n",
    "        print(student_name[i]) #print the names of functions having underscores.......attributes\n",
    "        i=i+1\n",
    "print(\"Total words printed without underscore:\" + str(number_of_underscores))"
   ]
  },
  {
   "cell_type": "code",
   "execution_count": null,
   "metadata": {},
   "outputs": [],
   "source": []
  }
 ],
 "metadata": {
  "colab": {
   "collapsed_sections": [],
   "name": "class2assignment.ipynb",
   "provenance": []
  },
  "kernelspec": {
   "display_name": "Python 3 (ipykernel)",
   "language": "python",
   "name": "python3"
  },
  "language_info": {
   "codemirror_mode": {
    "name": "ipython",
    "version": 3
   },
   "file_extension": ".py",
   "mimetype": "text/x-python",
   "name": "python",
   "nbconvert_exporter": "python",
   "pygments_lexer": "ipython3",
   "version": "3.10.0"
  }
 },
 "nbformat": 4,
 "nbformat_minor": 1
}
